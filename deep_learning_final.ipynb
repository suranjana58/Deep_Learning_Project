{
 "cells": [
  {
   "cell_type": "markdown",
   "metadata": {
    "id": "57OrDCfDtB7x"
   },
   "source": [
    "## Customer Sentiment Analysis: Amazon food items\n",
    "\n",
    "### Group: 1\n",
    "### Name: Akanksha Arora, Suranjana Chowdhury, Xiaohong Liu, Sai Meghana Reddy Devarapalli"
   ]
  },
  {
   "cell_type": "code",
   "execution_count": 1,
   "metadata": {},
   "outputs": [
    {
     "name": "stderr",
     "output_type": "stream",
     "text": [
      "2023-04-15 16:34:08.744734: I tensorflow/core/platform/cpu_feature_guard.cc:182] This TensorFlow binary is optimized to use available CPU instructions in performance-critical operations.\n",
      "To enable the following instructions: AVX2 FMA, in other operations, rebuild TensorFlow with the appropriate compiler flags.\n"
     ]
    }
   ],
   "source": [
    "import numpy as np \n",
    "import pandas as pd \n",
    "from keras.preprocessing.text import Tokenizer\n",
    "from keras.preprocessing import sequence\n",
    "from keras.utils import pad_sequences\n",
    "import copy"
   ]
  },
  {
   "cell_type": "code",
   "execution_count": 2,
   "metadata": {},
   "outputs": [
    {
     "name": "stderr",
     "output_type": "stream",
     "text": [
      "[nltk_data] Downloading package stopwords to\n",
      "[nltk_data]     /Users/dineshagrawal/Documents/nltk_data...\n",
      "[nltk_data]   Package stopwords is already up-to-date!\n"
     ]
    }
   ],
   "source": [
    "import matplotlib.pyplot as plt\n",
    "from collections import Counter\n",
    "import nltk\n",
    "nltk.download('stopwords')\n",
    "from nltk.corpus import stopwords"
   ]
  },
  {
   "cell_type": "code",
   "execution_count": 16,
   "metadata": {},
   "outputs": [],
   "source": [
    "import seaborn as sns"
   ]
  },
  {
   "cell_type": "code",
   "execution_count": 3,
   "metadata": {
    "colab": {
     "base_uri": "https://localhost:8080/",
     "height": 337
    },
    "id": "WQ58AY0QtTyW",
    "outputId": "0c7e770c-91fd-410b-c30f-4a6d61420f05"
   },
   "outputs": [
    {
     "data": {
      "text/html": [
       "<div>\n",
       "<style scoped>\n",
       "    .dataframe tbody tr th:only-of-type {\n",
       "        vertical-align: middle;\n",
       "    }\n",
       "\n",
       "    .dataframe tbody tr th {\n",
       "        vertical-align: top;\n",
       "    }\n",
       "\n",
       "    .dataframe thead th {\n",
       "        text-align: right;\n",
       "    }\n",
       "</style>\n",
       "<table border=\"1\" class=\"dataframe\">\n",
       "  <thead>\n",
       "    <tr style=\"text-align: right;\">\n",
       "      <th></th>\n",
       "      <th>Id</th>\n",
       "      <th>ProductId</th>\n",
       "      <th>UserId</th>\n",
       "      <th>ProfileName</th>\n",
       "      <th>HelpfulnessNumerator</th>\n",
       "      <th>HelpfulnessDenominator</th>\n",
       "      <th>Score</th>\n",
       "      <th>Time</th>\n",
       "      <th>Summary</th>\n",
       "      <th>Text</th>\n",
       "    </tr>\n",
       "  </thead>\n",
       "  <tbody>\n",
       "    <tr>\n",
       "      <th>0</th>\n",
       "      <td>1</td>\n",
       "      <td>B001E4KFG0</td>\n",
       "      <td>A3SGXH7AUHU8GW</td>\n",
       "      <td>delmartian</td>\n",
       "      <td>1</td>\n",
       "      <td>1</td>\n",
       "      <td>5</td>\n",
       "      <td>1303862400</td>\n",
       "      <td>Good Quality Dog Food</td>\n",
       "      <td>I have bought several of the Vitality canned d...</td>\n",
       "    </tr>\n",
       "    <tr>\n",
       "      <th>1</th>\n",
       "      <td>2</td>\n",
       "      <td>B00813GRG4</td>\n",
       "      <td>A1D87F6ZCVE5NK</td>\n",
       "      <td>dll pa</td>\n",
       "      <td>0</td>\n",
       "      <td>0</td>\n",
       "      <td>1</td>\n",
       "      <td>1346976000</td>\n",
       "      <td>Not as Advertised</td>\n",
       "      <td>Product arrived labeled as Jumbo Salted Peanut...</td>\n",
       "    </tr>\n",
       "    <tr>\n",
       "      <th>2</th>\n",
       "      <td>3</td>\n",
       "      <td>B000LQOCH0</td>\n",
       "      <td>ABXLMWJIXXAIN</td>\n",
       "      <td>Natalia Corres \"Natalia Corres\"</td>\n",
       "      <td>1</td>\n",
       "      <td>1</td>\n",
       "      <td>4</td>\n",
       "      <td>1219017600</td>\n",
       "      <td>\"Delight\" says it all</td>\n",
       "      <td>This is a confection that has been around a fe...</td>\n",
       "    </tr>\n",
       "    <tr>\n",
       "      <th>3</th>\n",
       "      <td>4</td>\n",
       "      <td>B000UA0QIQ</td>\n",
       "      <td>A395BORC6FGVXV</td>\n",
       "      <td>Karl</td>\n",
       "      <td>3</td>\n",
       "      <td>3</td>\n",
       "      <td>2</td>\n",
       "      <td>1307923200</td>\n",
       "      <td>Cough Medicine</td>\n",
       "      <td>If you are looking for the secret ingredient i...</td>\n",
       "    </tr>\n",
       "    <tr>\n",
       "      <th>4</th>\n",
       "      <td>5</td>\n",
       "      <td>B006K2ZZ7K</td>\n",
       "      <td>A1UQRSCLF8GW1T</td>\n",
       "      <td>Michael D. Bigham \"M. Wassir\"</td>\n",
       "      <td>0</td>\n",
       "      <td>0</td>\n",
       "      <td>5</td>\n",
       "      <td>1350777600</td>\n",
       "      <td>Great taffy</td>\n",
       "      <td>Great taffy at a great price.  There was a wid...</td>\n",
       "    </tr>\n",
       "  </tbody>\n",
       "</table>\n",
       "</div>"
      ],
      "text/plain": [
       "   Id   ProductId          UserId                      ProfileName  \\\n",
       "0   1  B001E4KFG0  A3SGXH7AUHU8GW                       delmartian   \n",
       "1   2  B00813GRG4  A1D87F6ZCVE5NK                           dll pa   \n",
       "2   3  B000LQOCH0   ABXLMWJIXXAIN  Natalia Corres \"Natalia Corres\"   \n",
       "3   4  B000UA0QIQ  A395BORC6FGVXV                             Karl   \n",
       "4   5  B006K2ZZ7K  A1UQRSCLF8GW1T    Michael D. Bigham \"M. Wassir\"   \n",
       "\n",
       "   HelpfulnessNumerator  HelpfulnessDenominator  Score        Time  \\\n",
       "0                     1                       1      5  1303862400   \n",
       "1                     0                       0      1  1346976000   \n",
       "2                     1                       1      4  1219017600   \n",
       "3                     3                       3      2  1307923200   \n",
       "4                     0                       0      5  1350777600   \n",
       "\n",
       "                 Summary                                               Text  \n",
       "0  Good Quality Dog Food  I have bought several of the Vitality canned d...  \n",
       "1      Not as Advertised  Product arrived labeled as Jumbo Salted Peanut...  \n",
       "2  \"Delight\" says it all  This is a confection that has been around a fe...  \n",
       "3         Cough Medicine  If you are looking for the secret ingredient i...  \n",
       "4            Great taffy  Great taffy at a great price.  There was a wid...  "
      ]
     },
     "execution_count": 3,
     "metadata": {},
     "output_type": "execute_result"
    }
   ],
   "source": [
    "data = pd.read_csv('Reviews.csv')                \n",
    "data.head()"
   ]
  },
  {
   "cell_type": "code",
   "execution_count": 4,
   "metadata": {
    "colab": {
     "base_uri": "https://localhost:8080/"
    },
    "id": "nNU9d6hjutgS",
    "outputId": "1961bd3f-6515-460b-818f-4ac353008d8e"
   },
   "outputs": [
    {
     "data": {
      "text/plain": [
       "(568454, 10)"
      ]
     },
     "execution_count": 4,
     "metadata": {},
     "output_type": "execute_result"
    }
   ],
   "source": [
    "data.shape"
   ]
  },
  {
   "cell_type": "code",
   "execution_count": 5,
   "metadata": {
    "colab": {
     "base_uri": "https://localhost:8080/"
    },
    "id": "hVFN8SXOtlIl",
    "outputId": "2cbae4a5-8ae5-43dc-ed1a-cc6b7c45db0b"
   },
   "outputs": [
    {
     "data": {
      "text/plain": [
       "(568454, 10)"
      ]
     },
     "execution_count": 5,
     "metadata": {},
     "output_type": "execute_result"
    }
   ],
   "source": [
    "# Checking if there are duplicates: no duplicates\n",
    "data.drop_duplicates(inplace=True) \n",
    "data.shape     "
   ]
  },
  {
   "cell_type": "code",
   "execution_count": 6,
   "metadata": {
    "colab": {
     "base_uri": "https://localhost:8080/",
     "height": 206
    },
    "id": "u3YgLGuBvcjF",
    "outputId": "f0b9f7d0-9321-43f2-9401-7fa1a41a2395"
   },
   "outputs": [
    {
     "data": {
      "text/html": [
       "<div>\n",
       "<style scoped>\n",
       "    .dataframe tbody tr th:only-of-type {\n",
       "        vertical-align: middle;\n",
       "    }\n",
       "\n",
       "    .dataframe tbody tr th {\n",
       "        vertical-align: top;\n",
       "    }\n",
       "\n",
       "    .dataframe thead th {\n",
       "        text-align: right;\n",
       "    }\n",
       "</style>\n",
       "<table border=\"1\" class=\"dataframe\">\n",
       "  <thead>\n",
       "    <tr style=\"text-align: right;\">\n",
       "      <th></th>\n",
       "      <th>Score</th>\n",
       "      <th>Summary</th>\n",
       "      <th>Text</th>\n",
       "    </tr>\n",
       "  </thead>\n",
       "  <tbody>\n",
       "    <tr>\n",
       "      <th>0</th>\n",
       "      <td>5</td>\n",
       "      <td>Good Quality Dog Food</td>\n",
       "      <td>I have bought several of the Vitality canned d...</td>\n",
       "    </tr>\n",
       "    <tr>\n",
       "      <th>1</th>\n",
       "      <td>1</td>\n",
       "      <td>Not as Advertised</td>\n",
       "      <td>Product arrived labeled as Jumbo Salted Peanut...</td>\n",
       "    </tr>\n",
       "    <tr>\n",
       "      <th>2</th>\n",
       "      <td>4</td>\n",
       "      <td>\"Delight\" says it all</td>\n",
       "      <td>This is a confection that has been around a fe...</td>\n",
       "    </tr>\n",
       "    <tr>\n",
       "      <th>3</th>\n",
       "      <td>2</td>\n",
       "      <td>Cough Medicine</td>\n",
       "      <td>If you are looking for the secret ingredient i...</td>\n",
       "    </tr>\n",
       "    <tr>\n",
       "      <th>4</th>\n",
       "      <td>5</td>\n",
       "      <td>Great taffy</td>\n",
       "      <td>Great taffy at a great price.  There was a wid...</td>\n",
       "    </tr>\n",
       "  </tbody>\n",
       "</table>\n",
       "</div>"
      ],
      "text/plain": [
       "   Score                Summary  \\\n",
       "0      5  Good Quality Dog Food   \n",
       "1      1      Not as Advertised   \n",
       "2      4  \"Delight\" says it all   \n",
       "3      2         Cough Medicine   \n",
       "4      5            Great taffy   \n",
       "\n",
       "                                                Text  \n",
       "0  I have bought several of the Vitality canned d...  \n",
       "1  Product arrived labeled as Jumbo Salted Peanut...  \n",
       "2  This is a confection that has been around a fe...  \n",
       "3  If you are looking for the secret ingredient i...  \n",
       "4  Great taffy at a great price.  There was a wid...  "
      ]
     },
     "execution_count": 6,
     "metadata": {},
     "output_type": "execute_result"
    }
   ],
   "source": [
    "# Drop columns that are not needed \n",
    "data.drop(['Id', 'ProductId', 'UserId', 'ProfileName', 'HelpfulnessNumerator', 'HelpfulnessDenominator', 'Time'], axis=1, inplace=True)\n",
    "data.head()"
   ]
  },
  {
   "cell_type": "code",
   "execution_count": 7,
   "metadata": {
    "colab": {
     "base_uri": "https://localhost:8080/"
    },
    "id": "Hz2xWT5zvj7j",
    "outputId": "dcf9bf43-32b2-4ae7-94e9-8864e11a1be5"
   },
   "outputs": [
    {
     "data": {
      "text/plain": [
       "Score       0\n",
       "Summary    27\n",
       "Text        0\n",
       "dtype: int64"
      ]
     },
     "execution_count": 7,
     "metadata": {},
     "output_type": "execute_result"
    }
   ],
   "source": [
    "#2. Checking if the data has any null values in any column\n",
    "data.isnull().sum()"
   ]
  },
  {
   "cell_type": "code",
   "execution_count": 8,
   "metadata": {},
   "outputs": [],
   "source": [
    "# Drop rows with missing values\n",
    "#data.dropna(inplace=True)\n",
    "#data.shape"
   ]
  },
  {
   "cell_type": "code",
   "execution_count": 9,
   "metadata": {
    "id": "5LmagdarxNA-"
   },
   "outputs": [],
   "source": [
    "#only choose 50000 comments to show the results\n",
    "#data=data.head(50000)     "
   ]
  },
  {
   "cell_type": "code",
   "execution_count": 10,
   "metadata": {},
   "outputs": [],
   "source": [
    "#############################################################"
   ]
  },
  {
   "cell_type": "code",
   "execution_count": 11,
   "metadata": {
    "colab": {
     "base_uri": "https://localhost:8080/"
    },
    "id": "GKslyt92wrhB",
    "outputId": "5cdc36e9-fdb1-4702-f004-2c6d6d615d02"
   },
   "outputs": [
    {
     "name": "stdout",
     "output_type": "stream",
     "text": [
      "Number of reviews: 568454\n",
      "Number of positive reviews: 443777\n",
      "Number of negative reviews: 124677\n",
      "Average review length: 80.26402312236347\n",
      "Average summary length: 4.113101499857509\n"
     ]
    }
   ],
   "source": [
    "df=copy.deepcopy(data)\n",
    "# Convert 'Text' column to string type\n",
    "df['Text'] = df['Text'].astype(str)\n",
    "\n",
    "# Extract informative features\n",
    "df['length'] = df['Text'].apply(lambda x: len(x.split()))\n",
    "df['Summary'] = df['Summary'].fillna('')\n",
    "df['summary_length'] = df['Summary'].apply(lambda x: len(x.split()))\n",
    "\n",
    "# Calculate the sentiment of the reviews\n",
    "df['Sentiment'] = np.where(df['Score'] > 3, 'Positive', 'Negative')\n",
    "\n",
    "# Summarize the data set\n",
    "print('Number of reviews:', len(df))\n",
    "print('Number of positive reviews:', len(df[df['Sentiment'] == 'Positive']))\n",
    "print('Number of negative reviews:', len(df[df['Sentiment'] == 'Negative']))\n",
    "print('Average review length:', np.mean(df['length']))\n",
    "print('Average summary length:', np.mean(df['summary_length']))"
   ]
  },
  {
   "cell_type": "code",
   "execution_count": 12,
   "metadata": {
    "colab": {
     "base_uri": "https://localhost:8080/",
     "height": 472
    },
    "id": "6iiYk1Zww8aC",
    "outputId": "c3bb6c43-3326-42e1-e344-19c20cf78161"
   },
   "outputs": [
    {
     "data": {
      "image/png": "[encoded data removed]",
      "text/plain": [
       "<Figure size 432x288 with 1 Axes>"
      ]
     },
     "metadata": {
      "needs_background": "light"
     },
     "output_type": "display_data"
    }
   ],
   "source": [
    "num_bins = int((max(df['length']) - min(df['length'])) / 10)\n",
    "\n",
    "#Histogram of review lengths\n",
    "import matplotlib.pyplot as plt\n",
    "plt.hist(df['length'], bins=num_bins, color='lightseagreen')\n",
    "plt.title('Histogram of review lengths')\n",
    "plt.xlabel('Number of words')\n",
    "plt.ylabel('Frequency')\n",
    "\n",
    "# Define x-axis limits\n",
    "plt.xlim([0, 500])\n",
    "\n",
    "plt.show()"
   ]
  },
  {
   "cell_type": "code",
   "execution_count": 13,
   "metadata": {
    "colab": {
     "base_uri": "https://localhost:8080/",
     "height": 472
    },
    "id": "CDB0gYw7xAPR",
    "outputId": "a3c2dac0-b9d5-4121-cf3d-95450f63b365"
   },
   "outputs": [
    {
     "data": {
      "image/png": "[encoded data removed]",
      "text/plain": [
       "<Figure size 432x288 with 1 Axes>"
      ]
     },
     "metadata": {
      "needs_background": "light"
     },
     "output_type": "display_data"
    }
   ],
   "source": [
    "# Histogram of summary lengths\n",
    "import matplotlib.pyplot as plt\n",
    "plt.hist(df['summary_length'], bins=50, color='lightseagreen')\n",
    "plt.title('Histogram of summary lengths')\n",
    "plt.xlabel('Number of words')\n",
    "plt.ylabel('Frequency')\n",
    "plt.show()"
   ]
  },
  {
   "cell_type": "code",
   "execution_count": 14,
   "metadata": {
    "colab": {
     "base_uri": "https://localhost:8080/",
     "height": 472
    },
    "id": "5o2DzxvFxDdL",
    "outputId": "6cd6eabe-7b50-4ca9-c1de-458600281a36"
   },
   "outputs": [
    {
     "data": {
      "image/png": "[encoded data removed]",
      "text/plain": [
       "<Figure size 432x288 with 1 Axes>"
      ]
     },
     "metadata": {
      "needs_background": "light"
     },
     "output_type": "display_data"
    }
   ],
   "source": [
    "# Scatter plot of review length vs summary length\n",
    "import matplotlib.pyplot as plt\n",
    "plt.scatter(df['length'], df['summary_length'], color='lightseagreen')\n",
    "plt.title('Review length vs. summary length')\n",
    "plt.xlabel('Number of words in review')\n",
    "plt.ylabel('Number of words in summary')\n",
    "plt.show()"
   ]
  },
  {
   "cell_type": "code",
   "execution_count": 17,
   "metadata": {},
   "outputs": [
    {
     "data": {
      "image/png": "[encoded data removed]",
      "text/plain": [
       "<Figure size 360x360 with 1 Axes>"
      ]
     },
     "metadata": {
      "needs_background": "light"
     },
     "output_type": "display_data"
    }
   ],
   "source": [
    "# Scatter plot of review length vs summary length\n",
    "sns.catplot(data=df, x = 'Score', kind='count')\n",
    "plt.show()"
   ]
  },
  {
   "cell_type": "code",
   "execution_count": 18,
   "metadata": {
    "colab": {
     "base_uri": "https://localhost:8080/",
     "height": 472
    },
    "id": "g-TJ202lxeHO",
    "outputId": "6ea1804a-74a0-4db9-934d-59800c390ab5",
    "scrolled": true
   },
   "outputs": [
    {
     "data": {
      "image/png": "[encoded data removed]",
      "text/plain": [
       "<Figure size 432x288 with 1 Axes>"
      ]
     },
     "metadata": {
      "needs_background": "light"
     },
     "output_type": "display_data"
    }
   ],
   "source": [
    "# Bar chart of positive and negative reviews\n",
    "pos = len(df[df['Sentiment'] == 'Positive'])\n",
    "neg = len(df[df['Sentiment'] == 'Negative'])\n",
    "labels = ['Positive', 'Negative']\n",
    "values = [pos, neg]\n",
    "colors = ['lightseagreen', 'violet']\n",
    "plt.bar(labels, values, color=colors)\n",
    "plt.title('Number of positive and negative reviews')\n",
    "plt.xlabel('Sentiment')\n",
    "plt.ylabel('Number of reviews')\n",
    "plt.show()"
   ]
  },
  {
   "cell_type": "code",
   "execution_count": 19,
   "metadata": {
    "colab": {
     "base_uri": "https://localhost:8080/",
     "height": 472
    },
    "id": "duKgo_emxgZw",
    "outputId": "4b6fa36a-342d-4f19-8ae7-cddf7f7cecac"
   },
   "outputs": [
    {
     "data": {
      "image/png": "[encoded data removed]",
      "text/plain": [
       "<Figure size 432x288 with 1 Axes>"
      ]
     },
     "metadata": {
      "needs_background": "light"
     },
     "output_type": "display_data"
    }
   ],
   "source": [
    "# Box plot of review lengths by sentiment\n",
    "sns.boxplot(x='Sentiment', y='length', data=df)\n",
    "plt.title('Box plot of review lengths by sentiment')\n",
    "plt.xlabel('Sentiment')\n",
    "plt.ylabel('Number of words')\n",
    "plt.show()"
   ]
  },
  {
   "cell_type": "code",
   "execution_count": 20,
   "metadata": {
    "colab": {
     "base_uri": "https://localhost:8080/",
     "height": 472
    },
    "id": "bo3qgPNsxiYc",
    "outputId": "d36e3aa5-2f96-473b-f567-7b4059cbba97"
   },
   "outputs": [
    {
     "data": {
      "image/png": "[encoded data removed]",
      "text/plain": [
       "<Figure size 432x288 with 1 Axes>"
      ]
     },
     "metadata": {
      "needs_background": "light"
     },
     "output_type": "display_data"
    }
   ],
   "source": [
    "# Box plot of summary lengths by sentiment\n",
    "import seaborn as sns\n",
    "sns.boxplot(x='Sentiment', y='summary_length', data=df, palette=['violet', 'lightseagreen'])\n",
    "plt.title('Box plot of summary lengths by sentiment')\n",
    "plt.xlabel('Sentiment')\n",
    "plt.ylabel('Number of words')\n",
    "plt.show()"
   ]
  },
  {
   "cell_type": "code",
   "execution_count": 21,
   "metadata": {
    "colab": {
     "base_uri": "https://localhost:8080/",
     "height": 442
    },
    "id": "JvK1SzGsxlOy",
    "outputId": "d9a00ced-a46d-4a88-a44d-e39228b8d83a"
   },
   "outputs": [
    {
     "data": {
      "image/png": "[encoded data removed]",
      "text/plain": [
       "<Figure size 1080x504 with 2 Axes>"
      ]
     },
     "metadata": {
      "needs_background": "light"
     },
     "output_type": "display_data"
    }
   ],
   "source": [
    "stop_words = set(stopwords.words('english'))\n",
    "# Add new words to the stopwords list\n",
    "new_stopwords = ['/><br']\n",
    "stop_words.update(new_stopwords)\n",
    "\n",
    "positive_text = ' '.join(df[df['Sentiment'] == 'Positive']['Text'])\n",
    "negative_text = ' '.join(df[df['Sentiment'] == 'Negative']['Text'])\n",
    "\n",
    "positive_word_counts = Counter([word for word in positive_text.lower().split() if word not in stop_words])\n",
    "negative_word_counts = Counter([word for word in negative_text.lower().split() if word not in stop_words])\n",
    "\n",
    "top_5_positive_words = dict(positive_word_counts.most_common(10))\n",
    "top_5_negative_words = dict(negative_word_counts.most_common(10))\n",
    "\n",
    "plt.figure(figsize=(15, 7))\n",
    "plt.subplot(1, 2, 1)\n",
    "plt.bar(top_5_positive_words.keys(), top_5_positive_words.values(), color='lightseagreen')\n",
    "plt.title('Top 5 words in positive reviews', fontsize=14)\n",
    "plt.xlabel('Word', fontsize=16)\n",
    "plt.ylabel('Frequency', fontsize=16)\n",
    "plt.tick_params(labelsize=14)\n",
    "\n",
    "plt.subplot(1, 2, 2)\n",
    "plt.bar(top_5_negative_words.keys(), top_5_negative_words.values(), color='red')\n",
    "plt.title('Top 5 words in negative reviews', fontsize=14)\n",
    "plt.xlabel('Word', fontsize=16)\n",
    "plt.ylabel('Frequency', fontsize=16)\n",
    "plt.tick_params(labelsize=14)\n",
    "\n",
    "plt.tight_layout()\n",
    "plt.show()"
   ]
  },
  {
   "cell_type": "code",
   "execution_count": 22,
   "metadata": {
    "colab": {
     "base_uri": "https://localhost:8080/",
     "height": 452
    },
    "id": "Si0p9WbUxlxO",
    "outputId": "ce86cd34-2e1b-44ad-86fd-7f827600ef71"
   },
   "outputs": [
    {
     "data": {
      "image/png": "[encoded data removed]",
      "text/plain": [
       "<Figure size 432x288 with 2 Axes>"
      ]
     },
     "metadata": {
      "needs_background": "light"
     },
     "output_type": "display_data"
    }
   ],
   "source": [
    "# Plotting a heatmap of the correlation matrix\n",
    "import matplotlib.pyplot as plt\n",
    "import seaborn as sns\n",
    "corr_matrix = df[['Score', 'length', 'summary_length']].corr()\n",
    "sns.heatmap(corr_matrix, annot=True, cmap='Greens')\n",
    "plt.title('Correlation matrix')\n",
    "plt.show()"
   ]
  },
  {
   "cell_type": "markdown",
   "metadata": {
    "id": "KEDmovAbx-lQ"
   },
   "source": [
    "# Build a RNN model"
   ]
  },
  {
   "cell_type": "markdown",
   "metadata": {},
   "source": [
    "Using RNN model to predict a review is good(=1) or bad(=0)."
   ]
  },
  {
   "cell_type": "code",
   "execution_count": 23,
   "metadata": {
    "colab": {
     "base_uri": "https://localhost:8080/",
     "height": 206
    },
    "id": "qdtYiuCj0fCt",
    "outputId": "93934da5-9445-4123-a22b-a6aacb9e83af"
   },
   "outputs": [
    {
     "data": {
      "text/html": [
       "<div>\n",
       "<style scoped>\n",
       "    .dataframe tbody tr th:only-of-type {\n",
       "        vertical-align: middle;\n",
       "    }\n",
       "\n",
       "    .dataframe tbody tr th {\n",
       "        vertical-align: top;\n",
       "    }\n",
       "\n",
       "    .dataframe thead th {\n",
       "        text-align: right;\n",
       "    }\n",
       "</style>\n",
       "<table border=\"1\" class=\"dataframe\">\n",
       "  <thead>\n",
       "    <tr style=\"text-align: right;\">\n",
       "      <th></th>\n",
       "      <th>Text</th>\n",
       "      <th>Score</th>\n",
       "      <th>Class</th>\n",
       "    </tr>\n",
       "  </thead>\n",
       "  <tbody>\n",
       "    <tr>\n",
       "      <th>0</th>\n",
       "      <td>I have bought several of the Vitality canned d...</td>\n",
       "      <td>5</td>\n",
       "      <td>1</td>\n",
       "    </tr>\n",
       "    <tr>\n",
       "      <th>1</th>\n",
       "      <td>Product arrived labeled as Jumbo Salted Peanut...</td>\n",
       "      <td>1</td>\n",
       "      <td>0</td>\n",
       "    </tr>\n",
       "    <tr>\n",
       "      <th>2</th>\n",
       "      <td>This is a confection that has been around a fe...</td>\n",
       "      <td>4</td>\n",
       "      <td>1</td>\n",
       "    </tr>\n",
       "    <tr>\n",
       "      <th>3</th>\n",
       "      <td>If you are looking for the secret ingredient i...</td>\n",
       "      <td>2</td>\n",
       "      <td>0</td>\n",
       "    </tr>\n",
       "    <tr>\n",
       "      <th>4</th>\n",
       "      <td>Great taffy at a great price.  There was a wid...</td>\n",
       "      <td>5</td>\n",
       "      <td>1</td>\n",
       "    </tr>\n",
       "  </tbody>\n",
       "</table>\n",
       "</div>"
      ],
      "text/plain": [
       "                                                Text  Score  Class\n",
       "0  I have bought several of the Vitality canned d...      5      1\n",
       "1  Product arrived labeled as Jumbo Salted Peanut...      1      0\n",
       "2  This is a confection that has been around a fe...      4      1\n",
       "3  If you are looking for the secret ingredient i...      2      0\n",
       "4  Great taffy at a great price.  There was a wid...      5      1"
      ]
     },
     "execution_count": 23,
     "metadata": {},
     "output_type": "execute_result"
    }
   ],
   "source": [
    "#prepare data,only keep two columns\n",
    "reviews=copy.deepcopy(data[['Text','Score']])\n",
    "reviews['Class']=reviews['Score'].apply(lambda x: 1 if x>3 else 0)\n",
    "reviews.head()"
   ]
  },
  {
   "cell_type": "code",
   "execution_count": 24,
   "metadata": {
    "id": "KST2u_y2AJEt"
   },
   "outputs": [],
   "source": [
    "y=reviews['Class'].values\n",
    "x=reviews['Text'].values\n",
    "# split datat into training set and testing set\n",
    "from sklearn.model_selection import train_test_split\n",
    "np.random.seed(1234)\n",
    "x_train, x_test, y_train, y_test =train_test_split(x, y, test_size=0.2, random_state=0)"
   ]
  },
  {
   "cell_type": "code",
   "execution_count": 25,
   "metadata": {
    "id": "3HzjvozKyETC"
   },
   "outputs": [],
   "source": [
    "#create a tokenizer,fit on the train\n",
    "vocab_size=2000\n",
    "tokenizer = Tokenizer(num_words=vocab_size, oov_token=None)   \n",
    "tokenizer.fit_on_texts(x_train)"
   ]
  },
  {
   "cell_type": "code",
   "execution_count": 26,
   "metadata": {
    "id": "FzzN90d83a23"
   },
   "outputs": [],
   "source": [
    "#each review gets a sequence.\n",
    "x_train_tokenized = tokenizer.texts_to_sequences(x_train)  \n",
    "x_test_tokenized = tokenizer.texts_to_sequences(x_test)"
   ]
  },
  {
   "cell_type": "code",
   "execution_count": 27,
   "metadata": {
    "id": "m4KxHi_b3a5g"
   },
   "outputs": [],
   "source": [
    "#let the sequence be the same length\n",
    "max_words = 50  \n",
    "x_train_padded = pad_sequences(x_train_tokenized, maxlen=max_words)\n",
    "x_test_padded = pad_sequences(x_test_tokenized, maxlen=max_words)"
   ]
  },
  {
   "cell_type": "code",
   "execution_count": 28,
   "metadata": {
    "colab": {
     "base_uri": "https://localhost:8080/"
    },
    "id": "wc707iQV3a8G",
    "outputId": "d34e5cb3-cf38-44dd-b494-b340b8fe8bf4"
   },
   "outputs": [
    {
     "name": "stdout",
     "output_type": "stream",
     "text": [
      "Shape of x_train after reshape : (454763, 50, 1)\n",
      "Shape of y_train after reshape : (454763, 1)\n",
      "Shape of X_test after reshape : (113691, 50, 1)\n",
      "Shape of y_test after reshape : (113691, 1)\n"
     ]
    }
   ],
   "source": [
    "# Reshaping the data \n",
    "x_train = np.reshape(x_train_padded, (x_train_padded.shape[0], x_train_padded.shape[1],1))\n",
    "y_train = np.reshape(y_train, (y_train.shape[0],1))\n",
    "x_test = np.reshape(x_test_padded, (x_test_padded.shape[0],x_test_padded.shape[1],1))  # reshape to 3D array\n",
    "y_test = np.reshape(y_test, (-1,1)) \n",
    "print(\"Shape of x_train after reshape :\",x_train.shape)\n",
    "print(\"Shape of y_train after reshape :\",y_train.shape)\n",
    "print(\"Shape of X_test after reshape :\",x_test.shape)\n",
    "print(\"Shape of y_test after reshape :\",y_test.shape)"
   ]
  },
  {
   "cell_type": "code",
   "execution_count": 29,
   "metadata": {
    "id": "N1pHXrfP4etb"
   },
   "outputs": [],
   "source": [
    "from tensorflow.keras import datasets, layers, models\n",
    "from keras.models import Sequential\n",
    "from keras.layers import Embedding\n",
    "from keras.layers import Dense\n",
    "from keras.layers import SimpleRNN\n",
    "from keras.layers import Dropout\n",
    "model = models.Sequential()\n",
    "embedding_dims = 30\n",
    "model.add(layers.Embedding(vocab_size, embedding_dims, input_length=max_words))\n",
    "model.add(layers.SimpleRNN(units = 50, activation = \"tanh\", return_sequences = False))\n",
    "model.add(layers.Dropout(0.2))\n",
    "model.add(layers.Dense(1, activation='sigmoid'))"
   ]
  },
  {
   "cell_type": "code",
   "execution_count": null,
   "metadata": {
    "id": "WV7j16qUwA1Y"
   },
   "outputs": [],
   "source": [
    "#embedding: decrease the dimension for easy calculation\n",
    "#dropout prob is 0.2\n",
    "#the class is only 1 or 0, so the output activation function is sigmoid"
   ]
  },
  {
   "cell_type": "code",
   "execution_count": 30,
   "metadata": {
    "colab": {
     "base_uri": "https://localhost:8080/"
    },
    "id": "yHHJMid13a_I",
    "outputId": "d2552791-be3f-4cfe-9633-832a83a42e8a"
   },
   "outputs": [
    {
     "name": "stdout",
     "output_type": "stream",
     "text": [
      "Model: \"sequential\"\n",
      "_________________________________________________________________\n",
      " Layer (type)                Output Shape              Param #   \n",
      "=================================================================\n",
      " embedding (Embedding)       (None, 50, 30)            60000     \n",
      "                                                                 \n",
      " simple_rnn (SimpleRNN)      (None, 50)                4050      \n",
      "                                                                 \n",
      " dropout (Dropout)           (None, 50)                0         \n",
      "                                                                 \n",
      " dense (Dense)               (None, 1)                 51        \n",
      "                                                                 \n",
      "=================================================================\n",
      "Total params: 64,101\n",
      "Trainable params: 64,101\n",
      "Non-trainable params: 0\n",
      "_________________________________________________________________\n"
     ]
    }
   ],
   "source": [
    "model.summary()"
   ]
  },
  {
   "cell_type": "code",
   "execution_count": 31,
   "metadata": {
    "id": "dXeyPwiz4jRu"
   },
   "outputs": [],
   "source": [
    "model.compile(loss='binary_crossentropy', \n",
    "             optimizer='adam',  \n",
    "             metrics=['accuracy'])"
   ]
  },
  {
   "cell_type": "code",
   "execution_count": 32,
   "metadata": {
    "colab": {
     "base_uri": "https://localhost:8080/",
     "height": 346
    },
    "id": "mwHypD5n5i-A",
    "outputId": "84f7d7f8-743f-49f5-8ac8-b2ebb3049872",
    "scrolled": false
   },
   "outputs": [
    {
     "name": "stdout",
     "output_type": "stream",
     "text": [
      "Epoch 1/15\n",
      "14212/14212 [==============================] - 212s 15ms/step - loss: 0.3303 - accuracy: 0.8588 - val_loss: 0.3046 - val_accuracy: 0.8703\n",
      "Epoch 2/15\n",
      "14212/14212 [==============================] - 217s 15ms/step - loss: 0.3193 - accuracy: 0.8635 - val_loss: 0.3682 - val_accuracy: 0.8402\n",
      "Epoch 3/15\n",
      "14212/14212 [==============================] - 218s 15ms/step - loss: 0.3390 - accuracy: 0.8551 - val_loss: 0.3216 - val_accuracy: 0.8675\n",
      "Epoch 4/15\n",
      "14212/14212 [==============================] - 280s 20ms/step - loss: 0.3776 - accuracy: 0.8335 - val_loss: 0.3812 - val_accuracy: 0.8304\n",
      "Epoch 5/15\n",
      "14212/14212 [==============================] - 214s 15ms/step - loss: 0.3718 - accuracy: 0.8370 - val_loss: 0.3386 - val_accuracy: 0.8522\n",
      "Epoch 6/15\n",
      "14212/14212 [==============================] - 212s 15ms/step - loss: 0.3486 - accuracy: 0.8494 - val_loss: 0.3987 - val_accuracy: 0.8183\n",
      "Epoch 7/15\n",
      "14212/14212 [==============================] - 203s 14ms/step - loss: 0.3839 - accuracy: 0.8308 - val_loss: 0.3955 - val_accuracy: 0.8239\n",
      "Epoch 8/15\n",
      "14212/14212 [==============================] - 297s 21ms/step - loss: 0.3670 - accuracy: 0.8372 - val_loss: 0.3651 - val_accuracy: 0.8424\n",
      "Epoch 9/15\n",
      "14212/14212 [==============================] - 204s 14ms/step - loss: 0.3718 - accuracy: 0.8385 - val_loss: 0.3584 - val_accuracy: 0.8427\n",
      "Epoch 10/15\n",
      "14212/14212 [==============================] - 203s 14ms/step - loss: 0.3781 - accuracy: 0.8355 - val_loss: 0.3735 - val_accuracy: 0.8381\n",
      "Epoch 11/15\n",
      "14212/14212 [==============================] - 204s 14ms/step - loss: 0.3708 - accuracy: 0.8433 - val_loss: 0.3739 - val_accuracy: 0.8428\n",
      "Epoch 12/15\n",
      "14212/14212 [==============================] - 207s 15ms/step - loss: 0.3670 - accuracy: 0.8407 - val_loss: 0.3751 - val_accuracy: 0.8372\n",
      "Epoch 13/15\n",
      "14212/14212 [==============================] - 204s 14ms/step - loss: 0.3867 - accuracy: 0.8309 - val_loss: 0.3723 - val_accuracy: 0.8419\n",
      "Epoch 14/15\n",
      "14212/14212 [==============================] - 203s 14ms/step - loss: 0.3824 - accuracy: 0.8331 - val_loss: 0.3880 - val_accuracy: 0.8257\n",
      "Epoch 15/15\n",
      "14212/14212 [==============================] - 205s 14ms/step - loss: 0.3787 - accuracy: 0.8320 - val_loss: 0.3695 - val_accuracy: 0.8410\n"
     ]
    }
   ],
   "source": [
    "rnn=model.fit(x_train, y_train, epochs=15,validation_data=(x_test, y_test))  "
   ]
  },
  {
   "cell_type": "code",
   "execution_count": 33,
   "metadata": {
    "colab": {
     "base_uri": "https://localhost:8080/",
     "height": 455
    },
    "id": "ptwrjT-E4jXG",
    "outputId": "fef73c0d-a709-47a5-d96a-41b6126ce81a"
   },
   "outputs": [
    {
     "data": {
      "image/png": "[encoded data removed]",
      "text/plain": [
       "<Figure size 432x288 with 1 Axes>"
      ]
     },
     "metadata": {
      "needs_background": "light"
     },
     "output_type": "display_data"
    }
   ],
   "source": [
    "## plot accuracy and val-accuracy vs Epoch\n",
    "import matplotlib.pyplot as plt\n",
    "plt.plot(rnn.history['accuracy'], label='accuracy')\n",
    "plt.plot(rnn.history['val_accuracy'], label = 'val_accuracy')\n",
    "plt.xlabel('Epoch')\n",
    "plt.ylabel('Accuracy')\n",
    "plt.ylim([0.6, 1])\n",
    "plt.grid()\n",
    "plt.legend(loc='lower right')\n",
    "plt.show()"
   ]
  },
  {
   "cell_type": "markdown",
   "metadata": {},
   "source": [
    "### USE CASES"
   ]
  },
  {
   "cell_type": "code",
   "execution_count": 34,
   "metadata": {},
   "outputs": [],
   "source": [
    "reviews =[\n",
    "    \"the product is good, but it would be a better idea to add some decor to it\",\n",
    "    \"not the worst deal but neither the best one, such a  horrible packing\",\n",
    "    \"the is the best deal of my life\",\n",
    "    \"havent seen anything like this before\"\n",
    "]"
   ]
  },
  {
   "cell_type": "code",
   "execution_count": 35,
   "metadata": {},
   "outputs": [],
   "source": [
    "X_new = tokenizer.texts_to_sequences(reviews)\n",
    "X_new_padded = pad_sequences(X_new,maxlen=max_words)"
   ]
  },
  {
   "cell_type": "code",
   "execution_count": 36,
   "metadata": {},
   "outputs": [],
   "source": [
    "def decode_pred(pred):\n",
    "    preds = np.round(pred)\n",
    "    pred_classes = []\n",
    "    for pred in preds:\n",
    "        if pred[0]==0:\n",
    "            pred_classes.append('bad')\n",
    "        else:\n",
    "            pred_classes.append('good')\n",
    "    return pred_classes"
   ]
  },
  {
   "cell_type": "code",
   "execution_count": 37,
   "metadata": {},
   "outputs": [
    {
     "name": "stdout",
     "output_type": "stream",
     "text": [
      "1/1 [==============================] - 2s 2s/step\n"
     ]
    },
    {
     "data": {
      "text/plain": [
       "['good', 'bad', 'good', 'good']"
      ]
     },
     "execution_count": 37,
     "metadata": {},
     "output_type": "execute_result"
    }
   ],
   "source": [
    "pred = model.predict(X_new_padded)\n",
    "pred_classes = decode_pred(pred)\n",
    "pred_classes"
   ]
  },
  {
   "cell_type": "code",
   "execution_count": 38,
   "metadata": {},
   "outputs": [
    {
     "data": {
      "text/plain": [
       "array([[0.8500517 ],\n",
       "       [0.22128451],\n",
       "       [0.9629333 ],\n",
       "       [0.89691913]], dtype=float32)"
      ]
     },
     "execution_count": 38,
     "metadata": {},
     "output_type": "execute_result"
    }
   ],
   "source": [
    "pred"
   ]
  },
  {
   "cell_type": "code",
   "execution_count": 39,
   "metadata": {},
   "outputs": [
    {
     "name": "stdout",
     "output_type": "stream",
     "text": [
      "Saved model to disk\n"
     ]
    }
   ],
   "source": [
    "# save model and architecture to single file\n",
    "model.save(\"model.h5\")\n",
    "print(\"Saved model to disk\")"
   ]
  },
  {
   "cell_type": "code",
   "execution_count": null,
   "metadata": {},
   "outputs": [],
   "source": [
    "from numpy import loadtxt\n",
    "from tensorflow.keras.models import load_model\n",
    " \n",
    "# load model\n",
    "model = load_model('model.h5')\n",
    "# summarize model.\n",
    "model.summary()"
   ]
  }
 ],
 "metadata": {
  "colab": {
   "provenance": []
  },
  "kernelspec": {
   "display_name": "Python 3 (ipykernel)",
   "language": "python",
   "name": "python3"
  },
  "language_info": {
   "codemirror_mode": {
    "name": "ipython",
    "version": 3
   },
   "file_extension": ".py",
   "mimetype": "text/x-python",
   "name": "python",
   "nbconvert_exporter": "python",
   "pygments_lexer": "ipython3",
   "version": "3.9.12"
  }
 },
 "nbformat": 4,
 "nbformat_minor": 1
}
